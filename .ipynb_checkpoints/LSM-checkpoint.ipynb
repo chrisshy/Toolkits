{
 "cells": [
  {
   "cell_type": "markdown",
   "metadata": {},
   "source": [
    "蒙特卡洛模拟通过随机生成股价序列进行一系列模拟操作，因此首先需要我们事先定义模拟的股票路径，通常模拟路径如下：\n",
    "\n",
    "$S_t=S_{(t-1)}×e^{((r-0.5σ^2)T/M+σε√(T/M))}$                                                   \n",
    "式中S为股票价格，r为无风险利率，T为距离到期日的时间，M为分割的交易日的天数，ε为随机正态生成数。\n",
    "单纯的模拟算法并不能计算每个时刻的持有期望收益，LSM对于处理美式期权和一些路径依赖的期权定价问题有明显优势。LSM采用了由后往前逆推估计期权路径上时点的期望价值的方法，其中在计算过程中，在美式期权执行的边界条件上，通常假设当提前履约的价差大于持有的期望价值时选择执行期权，反之则继续持有，即每一时刻的当期价值为max⁡(S_T-K,0)，最后再通过贴现每一路径的价值获得该时点的平均看涨期权价值。如前文所说，计算每一时间点的期望价值时，LSM会构建基于基函数的线性函数，且常采用多项式，随后利用最小二乘法来确定继续持有期权的价值。假设V是贴现价格，且该贴现值为风险中性世界中条件期望值，建立如下最小二乘关系式。\n",
    "\n",
    "$V=a+bS_t+cS_t^2+dS_t^3 $             \n",
    "\n",
    "式中参数a,b,c和d通过最优解求出。因为复杂的计算过程和大量的交易时间点，最小二乘蒙特卡洛模拟算法的最大缺点便体现在模拟路径会随着时间点的增大而增大，因此运算量极大，需要消耗较多的时间。\n"
   ]
  },
  {
   "cell_type": "code",
   "execution_count": null,
   "metadata": {},
   "outputs": [],
   "source": [
    "from math import log,sqrt,exp,ceil\n",
    "import numpy as np\n",
    "import numpy.random as npr"
   ]
  },
  {
   "cell_type": "code",
   "execution_count": 172,
   "metadata": {},
   "outputs": [],
   "source": [
    "def gen_sn(M,I,anti_paths=True,mo_match=True): \n",
    "    \"\"\"\n",
    "# 生成随机值（运用方差缩减-对偶方法或者矩匹配的方法，改善正态分布随机值的匹配\n",
    "    Function to generate random numbers for simulation\n",
    "    :param M: number of time  intervals for discretization\n",
    "    :param I: number of paths to be simulated\n",
    "    :param anti_paths: use of antithetic variates\n",
    "    :param mo_math: use of moment matching\n",
    "    :return:\n",
    "    \"\"\"\n",
    "\n",
    "    if anti_paths is True:\n",
    "    #对偶方法\n",
    "        sn = npr.standard_normal((M+1,int(I / 2)))\n",
    "        sn = np.concatenate((sn,-sn), axis=1) \n",
    "    else:\n",
    "        sn = npr.standard_normal((M+1,I))\n",
    "    if mo_match is True:\n",
    "    #矩匹配\n",
    "        sn = (sn - sn.mean())/sn.std()\n",
    "    return sn\n",
    "\n",
    "\n",
    "def gbm_mcs_stat(K):\n",
    "    \"\"\"\n",
    "    Valuation of European call option in Black-Scholes-Merton\n",
    "    by Mont Carlo simulation ( of index level at maturity )\n",
    "    :param k: float (positive) strike price of the option\n",
    "    :return:\n",
    "    \"\"\"\n",
    "    sn = gen_sn(1, I)\n",
    "    # simulate index level at maturity\n",
    "    ST = S0 * np.exp((r - 0.5 * sigma ** 2) * T + sigma * np.sqrt(T) * sn[1])\n",
    "    # calculate payoff at maturity\n",
    "    hT = np.maximum(ST - K, 0)\n",
    "    # calculate MCS estimator\n",
    "    C0 = np.exp(-r * T) * 1 / I * np.sum(hT)\n",
    "    return C0\n",
    "\n",
    "def gbm_mcs_amer(K, option='call'):\n",
    "    \"\"\"\n",
    "    Valuation of American option in Black-Scholes-Merton\n",
    "    by Monte Carlo simulation by LSM algorithm\n",
    "    :param K: (positive) strike price of the option\n",
    "    :param option: type of the option to be valued ('call','put')\n",
    "    :return: estimated present value of American call option\n",
    "    \"\"\"\n",
    "    dt = T / M\n",
    "    df = np.exp(-r * dt)\n",
    "    # simulation of index levels\n",
    "    S = np.zeros((M + 1, I))\n",
    "    S[0] = S0\n",
    "    sn = gen_sn(M, I)\n",
    "    for t in range(1, M + 1):\n",
    "        S[t] = S[t - 1] * np.exp((r - 0.5 * sigma ** 2) * dt\n",
    "                                 + sigma * np.sqrt(dt) * sn[t])\n",
    "    # case-based calculation of payoff\n",
    "    if option == 'call':\n",
    "        h = np.maximum(S - K, 0)\n",
    "    else:\n",
    "        h = np.maximum(K - S, 0)\n",
    "    # LSM algorithm\n",
    "    V = np.copy(h)\n",
    "    for t in range(M - 1, 0, -1):\n",
    "        reg = np.polyfit(S[t], V[t + 1] * df, 7)\n",
    "        C = np.polyval(reg, S[t])\n",
    "        V[t] = np.where(C > h[t], V[t + 1] * df, h[t])\n",
    "    # MSC estimator\n",
    "    C0 = df * 1 / I * np.sum(V[1])\n",
    "    return C0"
   ]
  },
  {
   "cell_type": "code",
   "execution_count": null,
   "metadata": {},
   "outputs": [],
   "source": [
    "M = 953\n",
    "S0 = 52.31\n",
    "r = 0.0238 #风险中性世界里的收益率期望\n",
    "sigma = Ready_002460_Price_Final.iloc[0,12] #波动率\n",
    "T = 3.783562 #T时刻\n",
    "I = 10000\n",
    "gbm_mcs_amer(42.28,option='call')"
   ]
  },
  {
   "cell_type": "code",
   "execution_count": 175,
   "metadata": {
    "scrolled": true
   },
   "outputs": [
    {
     "data": {
      "text/html": [
       "<div>\n",
       "<style scoped>\n",
       "    .dataframe tbody tr th:only-of-type {\n",
       "        vertical-align: middle;\n",
       "    }\n",
       "\n",
       "    .dataframe tbody tr th {\n",
       "        vertical-align: top;\n",
       "    }\n",
       "\n",
       "    .dataframe thead th {\n",
       "        text-align: right;\n",
       "    }\n",
       "</style>\n",
       "<table border=\"1\" class=\"dataframe\">\n",
       "  <thead>\n",
       "    <tr style=\"text-align: right;\">\n",
       "      <th></th>\n",
       "      <th>日期</th>\n",
       "      <th>收盘价</th>\n",
       "      <th>成交额(万元)</th>\n",
       "      <th>收益率</th>\n",
       "      <th>转股溢价率</th>\n",
       "      <th>纯债价值</th>\n",
       "      <th>期权价值</th>\n",
       "      <th>正股价格</th>\n",
       "      <th>到期时间</th>\n",
       "      <th>转股价格</th>\n",
       "      <th>...</th>\n",
       "      <th>G_L_Predict_Price</th>\n",
       "      <th>J_L_Predict_Price</th>\n",
       "      <th>W_L_Predict_Price</th>\n",
       "      <th>GJ_L_Predict_Price</th>\n",
       "      <th>GW_L_Predict_Price</th>\n",
       "      <th>JW_L_Predict_Price</th>\n",
       "      <th>GJW_L_Predict_Price</th>\n",
       "      <th>GJW_Predict_Price</th>\n",
       "      <th>LSM_Call_Predict</th>\n",
       "      <th>LSM_Convertible_Price</th>\n",
       "    </tr>\n",
       "    <tr>\n",
       "      <th>日期</th>\n",
       "      <th></th>\n",
       "      <th></th>\n",
       "      <th></th>\n",
       "      <th></th>\n",
       "      <th></th>\n",
       "      <th></th>\n",
       "      <th></th>\n",
       "      <th></th>\n",
       "      <th></th>\n",
       "      <th></th>\n",
       "      <th></th>\n",
       "      <th></th>\n",
       "      <th></th>\n",
       "      <th></th>\n",
       "      <th></th>\n",
       "      <th></th>\n",
       "      <th></th>\n",
       "      <th></th>\n",
       "      <th></th>\n",
       "      <th></th>\n",
       "      <th></th>\n",
       "    </tr>\n",
       "  </thead>\n",
       "  <tbody>\n",
       "    <tr>\n",
       "      <th>2020-03-25</th>\n",
       "      <td>2020/3/25</td>\n",
       "      <td>119.50</td>\n",
       "      <td>1895.60</td>\n",
       "      <td>-4.70%</td>\n",
       "      <td>26.47%</td>\n",
       "      <td>99.789622</td>\n",
       "      <td>19.710378</td>\n",
       "      <td>17.31</td>\n",
       "      <td>1.810959</td>\n",
       "      <td>18.32</td>\n",
       "      <td>...</td>\n",
       "      <td>118.145149</td>\n",
       "      <td>117.938288</td>\n",
       "      <td>118.250771</td>\n",
       "      <td>118.120071</td>\n",
       "      <td>117.328132</td>\n",
       "      <td>118.161785</td>\n",
       "      <td>118.261578</td>\n",
       "      <td>117.982398</td>\n",
       "      <td>0</td>\n",
       "      <td>0</td>\n",
       "    </tr>\n",
       "    <tr>\n",
       "      <th>2020-03-26</th>\n",
       "      <td>2020/3/26</td>\n",
       "      <td>119.63</td>\n",
       "      <td>2064.29</td>\n",
       "      <td>-4.77%</td>\n",
       "      <td>24.95%</td>\n",
       "      <td>99.803897</td>\n",
       "      <td>19.826103</td>\n",
       "      <td>17.54</td>\n",
       "      <td>1.808219</td>\n",
       "      <td>18.32</td>\n",
       "      <td>...</td>\n",
       "      <td>118.891824</td>\n",
       "      <td>118.472916</td>\n",
       "      <td>119.364736</td>\n",
       "      <td>118.810812</td>\n",
       "      <td>117.764597</td>\n",
       "      <td>118.719293</td>\n",
       "      <td>119.115672</td>\n",
       "      <td>118.550639</td>\n",
       "      <td>0</td>\n",
       "      <td>0</td>\n",
       "    </tr>\n",
       "    <tr>\n",
       "      <th>2020-03-27</th>\n",
       "      <td>2020/3/27</td>\n",
       "      <td>119.09</td>\n",
       "      <td>922.54</td>\n",
       "      <td>-4.53%</td>\n",
       "      <td>26.04%</td>\n",
       "      <td>99.818175</td>\n",
       "      <td>19.271825</td>\n",
       "      <td>17.31</td>\n",
       "      <td>1.805479</td>\n",
       "      <td>18.32</td>\n",
       "      <td>...</td>\n",
       "      <td>118.243526</td>\n",
       "      <td>117.479185</td>\n",
       "      <td>118.949155</td>\n",
       "      <td>117.991643</td>\n",
       "      <td>116.932514</td>\n",
       "      <td>117.961505</td>\n",
       "      <td>118.262646</td>\n",
       "      <td>117.786389</td>\n",
       "      <td>0</td>\n",
       "      <td>0</td>\n",
       "    </tr>\n",
       "    <tr>\n",
       "      <th>2020-03-30</th>\n",
       "      <td>2020/3/30</td>\n",
       "      <td>117.76</td>\n",
       "      <td>1897.45</td>\n",
       "      <td>-3.95%</td>\n",
       "      <td>25.50%</td>\n",
       "      <td>99.861021</td>\n",
       "      <td>17.898979</td>\n",
       "      <td>17.19</td>\n",
       "      <td>1.797260</td>\n",
       "      <td>18.32</td>\n",
       "      <td>...</td>\n",
       "      <td>117.939337</td>\n",
       "      <td>117.073672</td>\n",
       "      <td>118.734143</td>\n",
       "      <td>117.515226</td>\n",
       "      <td>116.730981</td>\n",
       "      <td>117.907157</td>\n",
       "      <td>117.690472</td>\n",
       "      <td>117.539553</td>\n",
       "      <td>0</td>\n",
       "      <td>0</td>\n",
       "    </tr>\n",
       "    <tr>\n",
       "      <th>2020-03-31</th>\n",
       "      <td>2020/3/31</td>\n",
       "      <td>116.45</td>\n",
       "      <td>1865.18</td>\n",
       "      <td>-3.35%</td>\n",
       "      <td>25.49%</td>\n",
       "      <td>99.875307</td>\n",
       "      <td>16.574693</td>\n",
       "      <td>17.00</td>\n",
       "      <td>1.794521</td>\n",
       "      <td>18.32</td>\n",
       "      <td>...</td>\n",
       "      <td>117.687323</td>\n",
       "      <td>116.236833</td>\n",
       "      <td>118.233611</td>\n",
       "      <td>116.946835</td>\n",
       "      <td>116.358707</td>\n",
       "      <td>117.211152</td>\n",
       "      <td>116.945180</td>\n",
       "      <td>116.874573</td>\n",
       "      <td>0</td>\n",
       "      <td>0</td>\n",
       "    </tr>\n",
       "    <tr>\n",
       "      <th>2020-04-01</th>\n",
       "      <td>2020/4/1</td>\n",
       "      <td>116.26</td>\n",
       "      <td>761.78</td>\n",
       "      <td>-3.26%</td>\n",
       "      <td>25.88%</td>\n",
       "      <td>99.889595</td>\n",
       "      <td>16.370405</td>\n",
       "      <td>16.92</td>\n",
       "      <td>1.791781</td>\n",
       "      <td>18.32</td>\n",
       "      <td>...</td>\n",
       "      <td>117.579933</td>\n",
       "      <td>115.697516</td>\n",
       "      <td>118.014143</td>\n",
       "      <td>116.765595</td>\n",
       "      <td>115.984248</td>\n",
       "      <td>116.992551</td>\n",
       "      <td>116.335140</td>\n",
       "      <td>116.836788</td>\n",
       "      <td>0</td>\n",
       "      <td>0</td>\n",
       "    </tr>\n",
       "    <tr>\n",
       "      <th>2020-04-02</th>\n",
       "      <td>2020/4/2</td>\n",
       "      <td>116.04</td>\n",
       "      <td>1637.12</td>\n",
       "      <td>-3.17%</td>\n",
       "      <td>26.01%</td>\n",
       "      <td>99.903885</td>\n",
       "      <td>16.136115</td>\n",
       "      <td>16.87</td>\n",
       "      <td>1.789041</td>\n",
       "      <td>18.32</td>\n",
       "      <td>...</td>\n",
       "      <td>117.652374</td>\n",
       "      <td>115.247195</td>\n",
       "      <td>118.013742</td>\n",
       "      <td>116.482951</td>\n",
       "      <td>116.234004</td>\n",
       "      <td>116.816321</td>\n",
       "      <td>115.912980</td>\n",
       "      <td>116.866209</td>\n",
       "      <td>0</td>\n",
       "      <td>0</td>\n",
       "    </tr>\n",
       "    <tr>\n",
       "      <th>2020-04-03</th>\n",
       "      <td>2020/4/3</td>\n",
       "      <td>117.31</td>\n",
       "      <td>4890.37</td>\n",
       "      <td>-3.77%</td>\n",
       "      <td>22.11%</td>\n",
       "      <td>99.918178</td>\n",
       "      <td>17.391822</td>\n",
       "      <td>17.60</td>\n",
       "      <td>1.786301</td>\n",
       "      <td>18.32</td>\n",
       "      <td>...</td>\n",
       "      <td>120.039194</td>\n",
       "      <td>117.684075</td>\n",
       "      <td>120.274653</td>\n",
       "      <td>119.541362</td>\n",
       "      <td>118.520211</td>\n",
       "      <td>119.039758</td>\n",
       "      <td>118.034938</td>\n",
       "      <td>119.064695</td>\n",
       "      <td>0</td>\n",
       "      <td>0</td>\n",
       "    </tr>\n",
       "    <tr>\n",
       "      <th>2020-04-07</th>\n",
       "      <td>2020/4/7</td>\n",
       "      <td>119.88</td>\n",
       "      <td>1765.98</td>\n",
       "      <td>-4.96%</td>\n",
       "      <td>22.90%</td>\n",
       "      <td>99.975367</td>\n",
       "      <td>19.904633</td>\n",
       "      <td>17.87</td>\n",
       "      <td>1.775342</td>\n",
       "      <td>18.32</td>\n",
       "      <td>...</td>\n",
       "      <td>120.699493</td>\n",
       "      <td>119.409187</td>\n",
       "      <td>121.369250</td>\n",
       "      <td>120.078674</td>\n",
       "      <td>119.249474</td>\n",
       "      <td>120.371237</td>\n",
       "      <td>118.967434</td>\n",
       "      <td>120.046249</td>\n",
       "      <td>0</td>\n",
       "      <td>0</td>\n",
       "    </tr>\n",
       "    <tr>\n",
       "      <th>2020-04-08</th>\n",
       "      <td>2020/4/8</td>\n",
       "      <td>119.72</td>\n",
       "      <td>968.12</td>\n",
       "      <td>-4.90%</td>\n",
       "      <td>20.77%</td>\n",
       "      <td>99.989669</td>\n",
       "      <td>19.730331</td>\n",
       "      <td>18.16</td>\n",
       "      <td>1.772603</td>\n",
       "      <td>18.32</td>\n",
       "      <td>...</td>\n",
       "      <td>121.312182</td>\n",
       "      <td>121.023679</td>\n",
       "      <td>122.431284</td>\n",
       "      <td>121.326847</td>\n",
       "      <td>120.614178</td>\n",
       "      <td>121.163845</td>\n",
       "      <td>120.566387</td>\n",
       "      <td>120.707642</td>\n",
       "      <td>0</td>\n",
       "      <td>0</td>\n",
       "    </tr>\n",
       "    <tr>\n",
       "      <th>2020-04-09</th>\n",
       "      <td>2020/4/9</td>\n",
       "      <td>120.22</td>\n",
       "      <td>1432.40</td>\n",
       "      <td>-5.13%</td>\n",
       "      <td>19.83%</td>\n",
       "      <td>100.003974</td>\n",
       "      <td>20.216026</td>\n",
       "      <td>18.38</td>\n",
       "      <td>1.769863</td>\n",
       "      <td>18.32</td>\n",
       "      <td>...</td>\n",
       "      <td>121.902884</td>\n",
       "      <td>122.203421</td>\n",
       "      <td>123.270598</td>\n",
       "      <td>122.322014</td>\n",
       "      <td>121.941485</td>\n",
       "      <td>121.883957</td>\n",
       "      <td>121.892019</td>\n",
       "      <td>121.038934</td>\n",
       "      <td>0</td>\n",
       "      <td>0</td>\n",
       "    </tr>\n",
       "    <tr>\n",
       "      <th>2020-04-10</th>\n",
       "      <td>2020/4/10</td>\n",
       "      <td>118.02</td>\n",
       "      <td>708.40</td>\n",
       "      <td>-4.14%</td>\n",
       "      <td>21.13%</td>\n",
       "      <td>100.018280</td>\n",
       "      <td>18.001720</td>\n",
       "      <td>17.85</td>\n",
       "      <td>1.767123</td>\n",
       "      <td>18.32</td>\n",
       "      <td>...</td>\n",
       "      <td>120.022325</td>\n",
       "      <td>120.665713</td>\n",
       "      <td>121.583115</td>\n",
       "      <td>120.479492</td>\n",
       "      <td>120.349410</td>\n",
       "      <td>119.924399</td>\n",
       "      <td>120.342879</td>\n",
       "      <td>118.864841</td>\n",
       "      <td>0</td>\n",
       "      <td>0</td>\n",
       "    </tr>\n",
       "    <tr>\n",
       "      <th>2020-04-13</th>\n",
       "      <td>2020/4/13</td>\n",
       "      <td>119.10</td>\n",
       "      <td>289.00</td>\n",
       "      <td>-4.65%</td>\n",
       "      <td>20.41%</td>\n",
       "      <td>100.061212</td>\n",
       "      <td>19.038788</td>\n",
       "      <td>18.12</td>\n",
       "      <td>1.758904</td>\n",
       "      <td>18.32</td>\n",
       "      <td>...</td>\n",
       "      <td>120.394035</td>\n",
       "      <td>121.103272</td>\n",
       "      <td>121.819788</td>\n",
       "      <td>120.930280</td>\n",
       "      <td>121.072368</td>\n",
       "      <td>120.396923</td>\n",
       "      <td>120.802155</td>\n",
       "      <td>119.524250</td>\n",
       "      <td>0</td>\n",
       "      <td>0</td>\n",
       "    </tr>\n",
       "    <tr>\n",
       "      <th>2020-04-14</th>\n",
       "      <td>2020/4/14</td>\n",
       "      <td>119.38</td>\n",
       "      <td>533.48</td>\n",
       "      <td>-4.79%</td>\n",
       "      <td>22.73%</td>\n",
       "      <td>100.075526</td>\n",
       "      <td>19.304474</td>\n",
       "      <td>17.82</td>\n",
       "      <td>1.756164</td>\n",
       "      <td>18.32</td>\n",
       "      <td>...</td>\n",
       "      <td>119.025025</td>\n",
       "      <td>119.756031</td>\n",
       "      <td>120.047325</td>\n",
       "      <td>119.815773</td>\n",
       "      <td>119.875553</td>\n",
       "      <td>119.344438</td>\n",
       "      <td>119.246971</td>\n",
       "      <td>118.734129</td>\n",
       "      <td>0</td>\n",
       "      <td>0</td>\n",
       "    </tr>\n",
       "    <tr>\n",
       "      <th>2020-04-15</th>\n",
       "      <td>2020/4/15</td>\n",
       "      <td>119.91</td>\n",
       "      <td>1548.52</td>\n",
       "      <td>-5.04%</td>\n",
       "      <td>23.27%</td>\n",
       "      <td>100.089843</td>\n",
       "      <td>19.820157</td>\n",
       "      <td>17.82</td>\n",
       "      <td>1.753425</td>\n",
       "      <td>18.32</td>\n",
       "      <td>...</td>\n",
       "      <td>118.732468</td>\n",
       "      <td>119.764465</td>\n",
       "      <td>119.697006</td>\n",
       "      <td>119.011241</td>\n",
       "      <td>119.984848</td>\n",
       "      <td>119.106289</td>\n",
       "      <td>118.992199</td>\n",
       "      <td>118.686081</td>\n",
       "      <td>0</td>\n",
       "      <td>0</td>\n",
       "    </tr>\n",
       "    <tr>\n",
       "      <th>2020-04-16</th>\n",
       "      <td>2020/4/16</td>\n",
       "      <td>119.39</td>\n",
       "      <td>885.35</td>\n",
       "      <td>-4.81%</td>\n",
       "      <td>22.95%</td>\n",
       "      <td>100.104162</td>\n",
       "      <td>19.285838</td>\n",
       "      <td>17.79</td>\n",
       "      <td>1.750685</td>\n",
       "      <td>18.32</td>\n",
       "      <td>...</td>\n",
       "      <td>118.529373</td>\n",
       "      <td>119.456378</td>\n",
       "      <td>119.346605</td>\n",
       "      <td>118.413844</td>\n",
       "      <td>120.145932</td>\n",
       "      <td>118.996221</td>\n",
       "      <td>118.859270</td>\n",
       "      <td>118.554146</td>\n",
       "      <td>0</td>\n",
       "      <td>0</td>\n",
       "    </tr>\n",
       "    <tr>\n",
       "      <th>2020-04-17</th>\n",
       "      <td>2020/4/17</td>\n",
       "      <td>119.02</td>\n",
       "      <td>817.06</td>\n",
       "      <td>-4.65%</td>\n",
       "      <td>23.96%</td>\n",
       "      <td>100.118483</td>\n",
       "      <td>18.901517</td>\n",
       "      <td>17.59</td>\n",
       "      <td>1.747945</td>\n",
       "      <td>18.32</td>\n",
       "      <td>...</td>\n",
       "      <td>117.860273</td>\n",
       "      <td>118.597253</td>\n",
       "      <td>118.398924</td>\n",
       "      <td>117.680768</td>\n",
       "      <td>119.824573</td>\n",
       "      <td>118.381548</td>\n",
       "      <td>117.923347</td>\n",
       "      <td>117.921970</td>\n",
       "      <td>0</td>\n",
       "      <td>0</td>\n",
       "    </tr>\n",
       "    <tr>\n",
       "      <th>2020-04-20</th>\n",
       "      <td>2020/4/20</td>\n",
       "      <td>119.00</td>\n",
       "      <td>1341.90</td>\n",
       "      <td>-4.66%</td>\n",
       "      <td>23.03%</td>\n",
       "      <td>100.161457</td>\n",
       "      <td>18.838543</td>\n",
       "      <td>17.72</td>\n",
       "      <td>1.739726</td>\n",
       "      <td>18.32</td>\n",
       "      <td>...</td>\n",
       "      <td>118.263749</td>\n",
       "      <td>119.031309</td>\n",
       "      <td>118.844481</td>\n",
       "      <td>117.984600</td>\n",
       "      <td>120.511333</td>\n",
       "      <td>118.984993</td>\n",
       "      <td>118.536857</td>\n",
       "      <td>118.528397</td>\n",
       "      <td>0</td>\n",
       "      <td>0</td>\n",
       "    </tr>\n",
       "    <tr>\n",
       "      <th>2020-04-21</th>\n",
       "      <td>2020/4/21</td>\n",
       "      <td>118.61</td>\n",
       "      <td>1694.71</td>\n",
       "      <td>-4.48%</td>\n",
       "      <td>18.48%</td>\n",
       "      <td>100.175787</td>\n",
       "      <td>18.434213</td>\n",
       "      <td>18.34</td>\n",
       "      <td>1.736986</td>\n",
       "      <td>18.32</td>\n",
       "      <td>...</td>\n",
       "      <td>120.586008</td>\n",
       "      <td>121.343174</td>\n",
       "      <td>121.147500</td>\n",
       "      <td>120.047054</td>\n",
       "      <td>122.722162</td>\n",
       "      <td>121.257921</td>\n",
       "      <td>120.855242</td>\n",
       "      <td>120.780824</td>\n",
       "      <td>0</td>\n",
       "      <td>0</td>\n",
       "    </tr>\n",
       "    <tr>\n",
       "      <th>2020-04-22</th>\n",
       "      <td>2020/4/22</td>\n",
       "      <td>123.74</td>\n",
       "      <td>16049.13</td>\n",
       "      <td>-6.81%</td>\n",
       "      <td>12.39%</td>\n",
       "      <td>100.190118</td>\n",
       "      <td>23.549882</td>\n",
       "      <td>20.17</td>\n",
       "      <td>1.734247</td>\n",
       "      <td>18.32</td>\n",
       "      <td>...</td>\n",
       "      <td>127.392833</td>\n",
       "      <td>127.792973</td>\n",
       "      <td>127.913491</td>\n",
       "      <td>126.858647</td>\n",
       "      <td>129.067361</td>\n",
       "      <td>128.129589</td>\n",
       "      <td>127.600525</td>\n",
       "      <td>127.411801</td>\n",
       "      <td>0</td>\n",
       "      <td>0</td>\n",
       "    </tr>\n",
       "    <tr>\n",
       "      <th>2020-04-23</th>\n",
       "      <td>2020/4/23</td>\n",
       "      <td>125.09</td>\n",
       "      <td>6372.08</td>\n",
       "      <td>-7.41%</td>\n",
       "      <td>13.56%</td>\n",
       "      <td>100.204451</td>\n",
       "      <td>24.885549</td>\n",
       "      <td>20.18</td>\n",
       "      <td>1.731507</td>\n",
       "      <td>18.32</td>\n",
       "      <td>...</td>\n",
       "      <td>127.702261</td>\n",
       "      <td>127.736586</td>\n",
       "      <td>127.913949</td>\n",
       "      <td>126.754685</td>\n",
       "      <td>128.847788</td>\n",
       "      <td>128.296970</td>\n",
       "      <td>127.617109</td>\n",
       "      <td>127.156336</td>\n",
       "      <td>0</td>\n",
       "      <td>0</td>\n",
       "    </tr>\n",
       "  </tbody>\n",
       "</table>\n",
       "<p>21 rows × 41 columns</p>\n",
       "</div>"
      ],
      "text/plain": [
       "                   日期     收盘价   成交额(万元)     收益率   转股溢价率        纯债价值  \\\n",
       "日期                                                                    \n",
       "2020-03-25  2020/3/25  119.50   1895.60  -4.70%  26.47%   99.789622   \n",
       "2020-03-26  2020/3/26  119.63   2064.29  -4.77%  24.95%   99.803897   \n",
       "2020-03-27  2020/3/27  119.09    922.54  -4.53%  26.04%   99.818175   \n",
       "2020-03-30  2020/3/30  117.76   1897.45  -3.95%  25.50%   99.861021   \n",
       "2020-03-31  2020/3/31  116.45   1865.18  -3.35%  25.49%   99.875307   \n",
       "2020-04-01   2020/4/1  116.26    761.78  -3.26%  25.88%   99.889595   \n",
       "2020-04-02   2020/4/2  116.04   1637.12  -3.17%  26.01%   99.903885   \n",
       "2020-04-03   2020/4/3  117.31   4890.37  -3.77%  22.11%   99.918178   \n",
       "2020-04-07   2020/4/7  119.88   1765.98  -4.96%  22.90%   99.975367   \n",
       "2020-04-08   2020/4/8  119.72    968.12  -4.90%  20.77%   99.989669   \n",
       "2020-04-09   2020/4/9  120.22   1432.40  -5.13%  19.83%  100.003974   \n",
       "2020-04-10  2020/4/10  118.02    708.40  -4.14%  21.13%  100.018280   \n",
       "2020-04-13  2020/4/13  119.10    289.00  -4.65%  20.41%  100.061212   \n",
       "2020-04-14  2020/4/14  119.38    533.48  -4.79%  22.73%  100.075526   \n",
       "2020-04-15  2020/4/15  119.91   1548.52  -5.04%  23.27%  100.089843   \n",
       "2020-04-16  2020/4/16  119.39    885.35  -4.81%  22.95%  100.104162   \n",
       "2020-04-17  2020/4/17  119.02    817.06  -4.65%  23.96%  100.118483   \n",
       "2020-04-20  2020/4/20  119.00   1341.90  -4.66%  23.03%  100.161457   \n",
       "2020-04-21  2020/4/21  118.61   1694.71  -4.48%  18.48%  100.175787   \n",
       "2020-04-22  2020/4/22  123.74  16049.13  -6.81%  12.39%  100.190118   \n",
       "2020-04-23  2020/4/23  125.09   6372.08  -7.41%  13.56%  100.204451   \n",
       "\n",
       "                 期权价值   正股价格      到期时间   转股价格          ...            \\\n",
       "日期                                                     ...             \n",
       "2020-03-25  19.710378  17.31  1.810959  18.32          ...             \n",
       "2020-03-26  19.826103  17.54  1.808219  18.32          ...             \n",
       "2020-03-27  19.271825  17.31  1.805479  18.32          ...             \n",
       "2020-03-30  17.898979  17.19  1.797260  18.32          ...             \n",
       "2020-03-31  16.574693  17.00  1.794521  18.32          ...             \n",
       "2020-04-01  16.370405  16.92  1.791781  18.32          ...             \n",
       "2020-04-02  16.136115  16.87  1.789041  18.32          ...             \n",
       "2020-04-03  17.391822  17.60  1.786301  18.32          ...             \n",
       "2020-04-07  19.904633  17.87  1.775342  18.32          ...             \n",
       "2020-04-08  19.730331  18.16  1.772603  18.32          ...             \n",
       "2020-04-09  20.216026  18.38  1.769863  18.32          ...             \n",
       "2020-04-10  18.001720  17.85  1.767123  18.32          ...             \n",
       "2020-04-13  19.038788  18.12  1.758904  18.32          ...             \n",
       "2020-04-14  19.304474  17.82  1.756164  18.32          ...             \n",
       "2020-04-15  19.820157  17.82  1.753425  18.32          ...             \n",
       "2020-04-16  19.285838  17.79  1.750685  18.32          ...             \n",
       "2020-04-17  18.901517  17.59  1.747945  18.32          ...             \n",
       "2020-04-20  18.838543  17.72  1.739726  18.32          ...             \n",
       "2020-04-21  18.434213  18.34  1.736986  18.32          ...             \n",
       "2020-04-22  23.549882  20.17  1.734247  18.32          ...             \n",
       "2020-04-23  24.885549  20.18  1.731507  18.32          ...             \n",
       "\n",
       "            G_L_Predict_Price  J_L_Predict_Price  W_L_Predict_Price  \\\n",
       "日期                                                                    \n",
       "2020-03-25         118.145149         117.938288         118.250771   \n",
       "2020-03-26         118.891824         118.472916         119.364736   \n",
       "2020-03-27         118.243526         117.479185         118.949155   \n",
       "2020-03-30         117.939337         117.073672         118.734143   \n",
       "2020-03-31         117.687323         116.236833         118.233611   \n",
       "2020-04-01         117.579933         115.697516         118.014143   \n",
       "2020-04-02         117.652374         115.247195         118.013742   \n",
       "2020-04-03         120.039194         117.684075         120.274653   \n",
       "2020-04-07         120.699493         119.409187         121.369250   \n",
       "2020-04-08         121.312182         121.023679         122.431284   \n",
       "2020-04-09         121.902884         122.203421         123.270598   \n",
       "2020-04-10         120.022325         120.665713         121.583115   \n",
       "2020-04-13         120.394035         121.103272         121.819788   \n",
       "2020-04-14         119.025025         119.756031         120.047325   \n",
       "2020-04-15         118.732468         119.764465         119.697006   \n",
       "2020-04-16         118.529373         119.456378         119.346605   \n",
       "2020-04-17         117.860273         118.597253         118.398924   \n",
       "2020-04-20         118.263749         119.031309         118.844481   \n",
       "2020-04-21         120.586008         121.343174         121.147500   \n",
       "2020-04-22         127.392833         127.792973         127.913491   \n",
       "2020-04-23         127.702261         127.736586         127.913949   \n",
       "\n",
       "            GJ_L_Predict_Price  GW_L_Predict_Price  JW_L_Predict_Price  \\\n",
       "日期                                                                       \n",
       "2020-03-25          118.120071          117.328132          118.161785   \n",
       "2020-03-26          118.810812          117.764597          118.719293   \n",
       "2020-03-27          117.991643          116.932514          117.961505   \n",
       "2020-03-30          117.515226          116.730981          117.907157   \n",
       "2020-03-31          116.946835          116.358707          117.211152   \n",
       "2020-04-01          116.765595          115.984248          116.992551   \n",
       "2020-04-02          116.482951          116.234004          116.816321   \n",
       "2020-04-03          119.541362          118.520211          119.039758   \n",
       "2020-04-07          120.078674          119.249474          120.371237   \n",
       "2020-04-08          121.326847          120.614178          121.163845   \n",
       "2020-04-09          122.322014          121.941485          121.883957   \n",
       "2020-04-10          120.479492          120.349410          119.924399   \n",
       "2020-04-13          120.930280          121.072368          120.396923   \n",
       "2020-04-14          119.815773          119.875553          119.344438   \n",
       "2020-04-15          119.011241          119.984848          119.106289   \n",
       "2020-04-16          118.413844          120.145932          118.996221   \n",
       "2020-04-17          117.680768          119.824573          118.381548   \n",
       "2020-04-20          117.984600          120.511333          118.984993   \n",
       "2020-04-21          120.047054          122.722162          121.257921   \n",
       "2020-04-22          126.858647          129.067361          128.129589   \n",
       "2020-04-23          126.754685          128.847788          128.296970   \n",
       "\n",
       "            GJW_L_Predict_Price  GJW_Predict_Price  LSM_Call_Predict  \\\n",
       "日期                                                                     \n",
       "2020-03-25           118.261578         117.982398                 0   \n",
       "2020-03-26           119.115672         118.550639                 0   \n",
       "2020-03-27           118.262646         117.786389                 0   \n",
       "2020-03-30           117.690472         117.539553                 0   \n",
       "2020-03-31           116.945180         116.874573                 0   \n",
       "2020-04-01           116.335140         116.836788                 0   \n",
       "2020-04-02           115.912980         116.866209                 0   \n",
       "2020-04-03           118.034938         119.064695                 0   \n",
       "2020-04-07           118.967434         120.046249                 0   \n",
       "2020-04-08           120.566387         120.707642                 0   \n",
       "2020-04-09           121.892019         121.038934                 0   \n",
       "2020-04-10           120.342879         118.864841                 0   \n",
       "2020-04-13           120.802155         119.524250                 0   \n",
       "2020-04-14           119.246971         118.734129                 0   \n",
       "2020-04-15           118.992199         118.686081                 0   \n",
       "2020-04-16           118.859270         118.554146                 0   \n",
       "2020-04-17           117.923347         117.921970                 0   \n",
       "2020-04-20           118.536857         118.528397                 0   \n",
       "2020-04-21           120.855242         120.780824                 0   \n",
       "2020-04-22           127.600525         127.411801                 0   \n",
       "2020-04-23           127.617109         127.156336                 0   \n",
       "\n",
       "            LSM_Convertible_Price  \n",
       "日期                                 \n",
       "2020-03-25                      0  \n",
       "2020-03-26                      0  \n",
       "2020-03-27                      0  \n",
       "2020-03-30                      0  \n",
       "2020-03-31                      0  \n",
       "2020-04-01                      0  \n",
       "2020-04-02                      0  \n",
       "2020-04-03                      0  \n",
       "2020-04-07                      0  \n",
       "2020-04-08                      0  \n",
       "2020-04-09                      0  \n",
       "2020-04-10                      0  \n",
       "2020-04-13                      0  \n",
       "2020-04-14                      0  \n",
       "2020-04-15                      0  \n",
       "2020-04-16                      0  \n",
       "2020-04-17                      0  \n",
       "2020-04-20                      0  \n",
       "2020-04-21                      0  \n",
       "2020-04-22                      0  \n",
       "2020-04-23                      0  \n",
       "\n",
       "[21 rows x 41 columns]"
      ]
     },
     "execution_count": 175,
     "metadata": {},
     "output_type": "execute_result"
    }
   ],
   "source": [
    "Ready_600998_Price_Final_LSM['LSM_Call_Predict']=0\n",
    "Ready_600998_Price_Final_LSM['LSM_Convertible_Price']=0\n",
    "Ready_600998_Price_Final_LSM"
   ]
  },
  {
   "cell_type": "code",
   "execution_count": 189,
   "metadata": {
    "scrolled": true
   },
   "outputs": [
    {
     "name": "stderr",
     "output_type": "stream",
     "text": [
      "C:\\Users\\Chris\\Anaconda3\\lib\\site-packages\\ipykernel_launcher.py:8: RankWarning: Polyfit may be poorly conditioned\n",
      "  \n"
     ]
    },
    {
     "name": "stdout",
     "output_type": "stream",
     "text": [
      "117.30489416497558\n"
     ]
    },
    {
     "name": "stderr",
     "output_type": "stream",
     "text": [
      "C:\\Users\\Chris\\Anaconda3\\lib\\site-packages\\ipykernel_launcher.py:8: RankWarning: Polyfit may be poorly conditioned\n",
      "  \n"
     ]
    },
    {
     "name": "stdout",
     "output_type": "stream",
     "text": [
      "118.08180899528536\n"
     ]
    },
    {
     "name": "stderr",
     "output_type": "stream",
     "text": [
      "C:\\Users\\Chris\\Anaconda3\\lib\\site-packages\\ipykernel_launcher.py:8: RankWarning: Polyfit may be poorly conditioned\n",
      "  \n"
     ]
    },
    {
     "name": "stdout",
     "output_type": "stream",
     "text": [
      "117.00725441056257\n"
     ]
    },
    {
     "name": "stderr",
     "output_type": "stream",
     "text": [
      "C:\\Users\\Chris\\Anaconda3\\lib\\site-packages\\ipykernel_launcher.py:8: RankWarning: Polyfit may be poorly conditioned\n",
      "  \n"
     ]
    },
    {
     "name": "stdout",
     "output_type": "stream",
     "text": [
      "116.8860003290369\n"
     ]
    },
    {
     "name": "stderr",
     "output_type": "stream",
     "text": [
      "C:\\Users\\Chris\\Anaconda3\\lib\\site-packages\\ipykernel_launcher.py:8: RankWarning: Polyfit may be poorly conditioned\n",
      "  \n",
      "C:\\Users\\Chris\\Anaconda3\\lib\\site-packages\\ipykernel_launcher.py:8: RankWarning: Polyfit may be poorly conditioned\n",
      "  \n"
     ]
    },
    {
     "name": "stdout",
     "output_type": "stream",
     "text": [
      "116.48881942682996\n"
     ]
    },
    {
     "name": "stderr",
     "output_type": "stream",
     "text": [
      "C:\\Users\\Chris\\Anaconda3\\lib\\site-packages\\ipykernel_launcher.py:8: RankWarning: Polyfit may be poorly conditioned\n",
      "  \n"
     ]
    },
    {
     "name": "stdout",
     "output_type": "stream",
     "text": [
      "116.40946428674138\n"
     ]
    },
    {
     "name": "stderr",
     "output_type": "stream",
     "text": [
      "C:\\Users\\Chris\\Anaconda3\\lib\\site-packages\\ipykernel_launcher.py:8: RankWarning: Polyfit may be poorly conditioned\n",
      "  \n"
     ]
    },
    {
     "name": "stdout",
     "output_type": "stream",
     "text": [
      "116.16876770120307\n"
     ]
    },
    {
     "name": "stderr",
     "output_type": "stream",
     "text": [
      "C:\\Users\\Chris\\Anaconda3\\lib\\site-packages\\ipykernel_launcher.py:8: RankWarning: Polyfit may be poorly conditioned\n",
      "  \n"
     ]
    },
    {
     "name": "stdout",
     "output_type": "stream",
     "text": [
      "118.37519041776454\n"
     ]
    },
    {
     "name": "stderr",
     "output_type": "stream",
     "text": [
      "C:\\Users\\Chris\\Anaconda3\\lib\\site-packages\\ipykernel_launcher.py:8: RankWarning: Polyfit may be poorly conditioned\n",
      "  \n"
     ]
    },
    {
     "name": "stdout",
     "output_type": "stream",
     "text": [
      "119.46778139120764\n"
     ]
    },
    {
     "name": "stderr",
     "output_type": "stream",
     "text": [
      "C:\\Users\\Chris\\Anaconda3\\lib\\site-packages\\ipykernel_launcher.py:8: RankWarning: Polyfit may be poorly conditioned\n",
      "  \n"
     ]
    },
    {
     "name": "stdout",
     "output_type": "stream",
     "text": [
      "119.91915658110757\n"
     ]
    },
    {
     "name": "stderr",
     "output_type": "stream",
     "text": [
      "C:\\Users\\Chris\\Anaconda3\\lib\\site-packages\\ipykernel_launcher.py:8: RankWarning: Polyfit may be poorly conditioned\n",
      "  \n"
     ]
    },
    {
     "name": "stdout",
     "output_type": "stream",
     "text": [
      "120.34699821164561\n"
     ]
    },
    {
     "name": "stderr",
     "output_type": "stream",
     "text": [
      "C:\\Users\\Chris\\Anaconda3\\lib\\site-packages\\ipykernel_launcher.py:8: RankWarning: Polyfit may be poorly conditioned\n",
      "  \n",
      "C:\\Users\\Chris\\Anaconda3\\lib\\site-packages\\ipykernel_launcher.py:8: RankWarning: Polyfit may be poorly conditioned\n",
      "  \n"
     ]
    },
    {
     "name": "stdout",
     "output_type": "stream",
     "text": [
      "118.3416922503296\n"
     ]
    },
    {
     "name": "stderr",
     "output_type": "stream",
     "text": [
      "C:\\Users\\Chris\\Anaconda3\\lib\\site-packages\\ipykernel_launcher.py:8: RankWarning: Polyfit may be poorly conditioned\n",
      "  \n"
     ]
    },
    {
     "name": "stdout",
     "output_type": "stream",
     "text": [
      "119.15014203861456\n"
     ]
    },
    {
     "name": "stderr",
     "output_type": "stream",
     "text": [
      "C:\\Users\\Chris\\Anaconda3\\lib\\site-packages\\ipykernel_launcher.py:8: RankWarning: Polyfit may be poorly conditioned\n",
      "  \n",
      "C:\\Users\\Chris\\Anaconda3\\lib\\site-packages\\ipykernel_launcher.py:8: RankWarning: Polyfit may be poorly conditioned\n",
      "  \n"
     ]
    },
    {
     "name": "stdout",
     "output_type": "stream",
     "text": [
      "118.17003214986153\n"
     ]
    },
    {
     "name": "stderr",
     "output_type": "stream",
     "text": [
      "C:\\Users\\Chris\\Anaconda3\\lib\\site-packages\\ipykernel_launcher.py:8: RankWarning: Polyfit may be poorly conditioned\n",
      "  \n",
      "C:\\Users\\Chris\\Anaconda3\\lib\\site-packages\\ipykernel_launcher.py:8: RankWarning: Polyfit may be poorly conditioned\n",
      "  \n"
     ]
    },
    {
     "name": "stdout",
     "output_type": "stream",
     "text": [
      "118.16054970191686\n"
     ]
    },
    {
     "name": "stderr",
     "output_type": "stream",
     "text": [
      "C:\\Users\\Chris\\Anaconda3\\lib\\site-packages\\ipykernel_launcher.py:8: RankWarning: Polyfit may be poorly conditioned\n",
      "  \n"
     ]
    },
    {
     "name": "stdout",
     "output_type": "stream",
     "text": [
      "117.88047848819414\n"
     ]
    },
    {
     "name": "stderr",
     "output_type": "stream",
     "text": [
      "C:\\Users\\Chris\\Anaconda3\\lib\\site-packages\\ipykernel_launcher.py:8: RankWarning: Polyfit may be poorly conditioned\n",
      "  \n",
      "C:\\Users\\Chris\\Anaconda3\\lib\\site-packages\\ipykernel_launcher.py:8: RankWarning: Polyfit may be poorly conditioned\n",
      "  \n"
     ]
    },
    {
     "name": "stdout",
     "output_type": "stream",
     "text": [
      "117.21358423830588\n"
     ]
    },
    {
     "name": "stderr",
     "output_type": "stream",
     "text": [
      "C:\\Users\\Chris\\Anaconda3\\lib\\site-packages\\ipykernel_launcher.py:8: RankWarning: Polyfit may be poorly conditioned\n",
      "  \n",
      "C:\\Users\\Chris\\Anaconda3\\lib\\site-packages\\ipykernel_launcher.py:8: RankWarning: Polyfit may be poorly conditioned\n",
      "  \n"
     ]
    },
    {
     "name": "stdout",
     "output_type": "stream",
     "text": [
      "118.01605681425966\n"
     ]
    },
    {
     "name": "stderr",
     "output_type": "stream",
     "text": [
      "C:\\Users\\Chris\\Anaconda3\\lib\\site-packages\\ipykernel_launcher.py:8: RankWarning: Polyfit may be poorly conditioned\n",
      "  \n",
      "C:\\Users\\Chris\\Anaconda3\\lib\\site-packages\\ipykernel_launcher.py:8: RankWarning: Polyfit may be poorly conditioned\n",
      "  \n"
     ]
    },
    {
     "name": "stdout",
     "output_type": "stream",
     "text": [
      "120.35281754441101\n"
     ]
    },
    {
     "name": "stderr",
     "output_type": "stream",
     "text": [
      "C:\\Users\\Chris\\Anaconda3\\lib\\site-packages\\ipykernel_launcher.py:8: RankWarning: Polyfit may be poorly conditioned\n",
      "  \n",
      "C:\\Users\\Chris\\Anaconda3\\lib\\site-packages\\ipykernel_launcher.py:8: RankWarning: Polyfit may be poorly conditioned\n",
      "  \n"
     ]
    },
    {
     "name": "stdout",
     "output_type": "stream",
     "text": [
      "127.01958437991007\n",
      "126.39249135500631\n"
     ]
    },
    {
     "name": "stderr",
     "output_type": "stream",
     "text": [
      "C:\\Users\\Chris\\Anaconda3\\lib\\site-packages\\ipykernel_launcher.py:8: RankWarning: Polyfit may be poorly conditioned\n",
      "  \n",
      "C:\\Users\\Chris\\Anaconda3\\lib\\site-packages\\ipykernel_launcher.py:8: RankWarning: Polyfit may be poorly conditioned\n",
      "  \n"
     ]
    }
   ],
   "source": [
    "for i in range(0,len(Ready_600998_Price_Final_LSM)):\n",
    "    sigma = Ready_600998_Price_Final_LSM.iloc[i,21] #波动率\n",
    "    M = 455-i\n",
    "    S0 = Ready_600998_Price_Final_LSM.iloc[i,7]\n",
    "    r = 0.0266 #风险中性世界里的收益率期望\n",
    "    T = Ready_600998_Price_Final_LSM.iloc[i,8] #T时刻\n",
    "    I = 50000\n",
    "    Ready_600998_Price_Final_LSM.iloc[i,39]=gbm_mcs_amer(18.32,option='call')\n",
    "    Ready_600998_Price_Final_LSM.iloc[i,38]=Ready_600998_Price_Final_LSM.iloc[i,39]*Ready_600998_Price_Final_LSM.iloc[i,25]+Ready_600998_Price_Final_LSM.iloc[i,5]\n",
    "    print(Ready_600998_Price_Final_LSM.iloc[i,38])"
   ]
  },
  {
   "cell_type": "code",
   "execution_count": null,
   "metadata": {},
   "outputs": [],
   "source": [
    "for i in range(0,len(Ready_600998_Price_Final_LSM)):\n",
    "    sigma = Ready_600998_Price_Final_LSM.iloc[i,21] #波动率\n",
    "    M = 455-i\n",
    "    S0 = Ready_600998_Price_Final_LSM.iloc[i,7]\n",
    "    r = 0.0266 #风险中性世界里的收益率期望\n",
    "    T = Ready_600998_Price_Final_LSM.iloc[i,8] #T时刻\n",
    "    I = 50000\n",
    "    Ready_600998_Price_Final_LSM.iloc[i,39]=gbm_mcs_amer(18.32,option='call')\n",
    "    Ready_600998_Price_Final_LSM.iloc[i,38]=Ready_600998_Price_Final_LSM.iloc[i,39]*Ready_600998_Price_Final_LSM.iloc[i,25]+Ready_600998_Price_Final_LSM.iloc[i,5]\n",
    "    print(Ready_600998_Price_Final_LSM.iloc[i,38])"
   ]
  },
  {
   "cell_type": "code",
   "execution_count": 190,
   "metadata": {},
   "outputs": [],
   "source": [
    "Ready_600998_Price_Final_LSM.to_csv(\"./Ready_600998_Price_Final_LSM.csv\",encoding='gbk')"
   ]
  },
  {
   "cell_type": "code",
   "execution_count": 252,
   "metadata": {},
   "outputs": [
    {
     "data": {
      "text/plain": [
       "-0.0012554938842967908"
      ]
     },
     "execution_count": 252,
     "metadata": {},
     "output_type": "execute_result"
    }
   ],
   "source": [
    "Ready_600998_Price_Final_temp=Ready_600998_Price_Final_LSM[['收盘价','GJW_L_Predict_Price']].copy()\n",
    "Ready_600998_Price_Final_temp['Pianli_rate']=(Ready_600998_Price_Final_temp['GJW_L_Predict_Price']-Ready_600998_Price_Final_temp['收盘价'])/Ready_600998_Price_Final_temp['收盘价']\n",
    "Ready_600998_Price_Final_temp['Pianli_rate'].mean()"
   ]
  },
  {
   "cell_type": "code",
   "execution_count": 253,
   "metadata": {},
   "outputs": [],
   "source": [
    "Ready_600998_Price_Final_temp['Resid']=Ready_600998_Price_Final_temp['GJW_L_Predict_Price']-Ready_600998_Price_Final_temp['收盘价']\n",
    "Ready_600998_Price_Final_temp['Resid_abs']=Ready_600998_Price_Final_temp['Resid'].abs()\n",
    "Ready_600998_Price_Final_temp['Resid_square']=Ready_600998_Price_Final_temp['Resid']*Ready_600998_Price_Final_temp['Resid']"
   ]
  },
  {
   "cell_type": "code",
   "execution_count": 254,
   "metadata": {},
   "outputs": [
    {
     "data": {
      "text/plain": [
       "1.1857456409294826"
      ]
     },
     "execution_count": 254,
     "metadata": {},
     "output_type": "execute_result"
    }
   ],
   "source": [
    "Ready_600998_Price_Final_temp['Resid_abs'].mean()"
   ]
  },
  {
   "cell_type": "code",
   "execution_count": 254,
   "metadata": {},
   "outputs": [
    {
     "data": {
      "text/plain": [
       "1.1857456409294826"
      ]
     },
     "execution_count": 254,
     "metadata": {},
     "output_type": "execute_result"
    }
   ],
   "source": [
    "Ready_600998_Price_Final_temp['Resid_abs'].mean()"
   ]
  },
  {
   "cell_type": "code",
   "execution_count": 257,
   "metadata": {},
   "outputs": [
    {
     "data": {
      "text/plain": [
       "<matplotlib.legend.Legend at 0x22f150dd588>"
      ]
     },
     "execution_count": 257,
     "metadata": {},
     "output_type": "execute_result"
    },
    {
     "data": {
      "image/png": "[encoded data removed]",
      "text/plain": [
       "<Figure size 720x432 with 1 Axes>"
      ]
     },
     "metadata": {},
     "output_type": "display_data"
    }
   ],
   "source": [
    "plt.figure(figsize=(10,6))\n",
    "plt.plot(Ready_600998_Price_Final_LSM['GJW_L_Predict_Price'])\n",
    "plt.plot(Ready_600998_Price_Final_LSM['收盘价'])\n",
    "plt.legend([\"GJW-LSTM_Predict_Price\",\"Real_Price\"])"
   ]
  },
  {
   "cell_type": "code",
   "execution_count": null,
   "metadata": {},
   "outputs": [],
   "source": []
  }
 ],
 "metadata": {
  "kernelspec": {
   "display_name": "Python 3",
   "language": "python",
   "name": "python3"
  },
  "language_info": {
   "codemirror_mode": {
    "name": "ipython",
    "version": 3
   },
   "file_extension": ".py",
   "mimetype": "text/x-python",
   "name": "python",
   "nbconvert_exporter": "python",
   "pygments_lexer": "ipython3",
   "version": "3.6.5"
  },
  "toc": {
   "base_numbering": 1,
   "nav_menu": {},
   "number_sections": true,
   "sideBar": true,
   "skip_h1_title": false,
   "title_cell": "Table of Contents",
   "title_sidebar": "Contents",
   "toc_cell": false,
   "toc_position": {},
   "toc_section_display": true,
   "toc_window_display": false
  }
 },
 "nbformat": 4,
 "nbformat_minor": 2
}
