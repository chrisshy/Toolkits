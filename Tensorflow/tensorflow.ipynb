{
 "cells": [
  {
   "cell_type": "code",
   "execution_count": 48,
   "metadata": {},
   "outputs": [],
   "source": [
    "import tensorflow as tf\n",
    "import tensorflow.compat.v1 as tf\n"
   ]
  },
  {
   "cell_type": "markdown",
   "metadata": {},
   "source": [
    "# 创建图，启动图"
   ]
  },
  {
   "cell_type": "code",
   "execution_count": 19,
   "metadata": {},
   "outputs": [],
   "source": [
    "# 创建常量op\n",
    "m1 = tf.constant([[3,3]])\n",
    "m2 = tf.constant([[2],[3]])\n",
    "product = tf.matmul(m1,m2)"
   ]
  },
  {
   "cell_type": "code",
   "execution_count": 20,
   "metadata": {},
   "outputs": [
    {
     "name": "stdout",
     "output_type": "stream",
     "text": [
      "Tensor(\"MatMul:0\", shape=(1, 1), dtype=int32)\n"
     ]
    }
   ],
   "source": [
    "print(product)"
   ]
  },
  {
   "cell_type": "code",
   "execution_count": 21,
   "metadata": {},
   "outputs": [
    {
     "name": "stdout",
     "output_type": "stream",
     "text": [
      "[[15]]\n"
     ]
    }
   ],
   "source": [
    "# 定义一个会话,启动默认图\n",
    "sess = tf.Session()\n",
    "result = sess.run(product)\n",
    "print(result)\n",
    "sess.close()"
   ]
  },
  {
   "cell_type": "markdown",
   "metadata": {},
   "source": [
    "# 变量"
   ]
  },
  {
   "cell_type": "code",
   "execution_count": 23,
   "metadata": {},
   "outputs": [
    {
     "name": "stdout",
     "output_type": "stream",
     "text": [
      "[-2 -1]\n",
      "[-1  1]\n"
     ]
    }
   ],
   "source": [
    "x = tf.Variable([1,2])\n",
    "a = tf.constant([3,3])\n",
    "\n",
    "sub = tf.subtract(x,a)\n",
    "add = tf.add(x,sub)\n",
    "\n",
    "# 变量进行初始化\n",
    "init = tf.global_variables_initializer()\n",
    "\n",
    "with tf.Session() as sess:\n",
    "    sess.run(init)\n",
    "    print(sess.run(sub))\n",
    "    print(sess.run(add))\n",
    "    "
   ]
  },
  {
   "cell_type": "code",
   "execution_count": 24,
   "metadata": {},
   "outputs": [
    {
     "name": "stdout",
     "output_type": "stream",
     "text": [
      "1\n",
      "2\n",
      "3\n",
      "4\n",
      "5\n"
     ]
    }
   ],
   "source": [
    "# 创建变量初始化为0\n",
    "state =tf.Variable(0,name='counter')\n",
    "new_value = tf.add(state,1)\n",
    "# 赋值不能直接放等号,new_value赋给state\n",
    "update = tf.assign(state,new_value)\n",
    "\n",
    "init = tf.global_variables_initializer()\n",
    "\n",
    "with tf.Session() as sess:\n",
    "    sess.run(init)\n",
    "    for _ in range(5):\n",
    "        sess.run(update)\n",
    "        print(sess.run(state))"
   ]
  },
  {
   "cell_type": "markdown",
   "metadata": {},
   "source": [
    "# fetch & feed"
   ]
  },
  {
   "cell_type": "code",
   "execution_count": 13,
   "metadata": {},
   "outputs": [
    {
     "name": "stdout",
     "output_type": "stream",
     "text": [
      "[21.0, 7.0]\n"
     ]
    }
   ],
   "source": [
    "#fetch\n",
    "tf.compat.v1.disable_eager_execution()\n",
    "\n",
    "input1 = tf.constant(3.0)\n",
    "input2 = tf.constant(2.0)\n",
    "input3 = tf.constant(5.0)\n",
    "\n",
    "add = tf.add(input2,input3)\n",
    "mul = tf.multiply(input1,add)\n",
    "\n",
    "with tf.Session() as sess:\n",
    "    result = sess.run([mul,add])\n",
    "#     result = sess.run(mul)\n",
    "    print(result)"
   ]
  },
  {
   "cell_type": "code",
   "execution_count": 12,
   "metadata": {},
   "outputs": [
    {
     "name": "stdout",
     "output_type": "stream",
     "text": [
      "[14.]\n"
     ]
    }
   ],
   "source": [
    "# 创建占位符，feed\n",
    "tf.compat.v1.disable_eager_execution()\n",
    "\n",
    "input1 = tf.placeholder(tf.float32)\n",
    "input2 = tf.placeholder(tf.float32)\n",
    "\n",
    "output = tf.multiply(input1,input2)\n",
    "\n",
    "with tf1.Session() as sess:\n",
    "#     字典形式传入\n",
    "    print(sess.run(output,feed_dict={input1:[7.0],input2:[2.0]}))"
   ]
  },
  {
   "cell_type": "markdown",
   "metadata": {},
   "source": [
    "# 案例"
   ]
  },
  {
   "cell_type": "code",
   "execution_count": 20,
   "metadata": {},
   "outputs": [
    {
     "name": "stdout",
     "output_type": "stream",
     "text": [
      "0 [-1.7643994, 6.0981283]\n",
      "20 [-1.88641, 1.1796474]\n",
      "40 [-0.92772734, 0.7068455]\n",
      "60 [-0.43172407, 0.462231]\n",
      "80 [-0.17510262, 0.3356727]\n",
      "100 [-0.04233218, 0.27019414]\n",
      "120 [0.026360402, 0.23631693]\n",
      "140 [0.061900448, 0.2187896]\n",
      "160 [0.080288105, 0.20972134]\n",
      "180 [0.08980149, 0.2050296]\n",
      "200 [0.0947235, 0.20260221]\n"
     ]
    }
   ],
   "source": [
    "import numpy as np\n",
    "\n",
    "x_data = np.random.rand(100)\n",
    "y_data = x_data*0.1+0.2\n",
    "\n",
    "# 定义线性模型\n",
    "b = tf.Variable(10.)\n",
    "k = tf.Variable(0.)\n",
    "y = k*x_data + b\n",
    "\n",
    "# 二次代价函数,reduce_mean（取平均）\n",
    "loss = tf.reduce_mean(tf.square(y_data-y))\n",
    "# 定义一个梯度下降法优化器\n",
    "optimizer = tf.train.GradientDescentOptimizer(0.2)\n",
    "# 定义一个最小化代价函数\n",
    "train = optimizer.minimize(loss)\n",
    "\n",
    "init = tf.global_variables_initializer()\n",
    "\n",
    "with tf.Session() as sess:\n",
    "    sess.run(init)\n",
    "    for step in range(201):\n",
    "        sess.run(train)\n",
    "        if step%20 == 0:\n",
    "            print(step,sess.run([k,b]))"
   ]
  },
  {
   "cell_type": "markdown",
   "metadata": {},
   "source": [
    "# 线性回归"
   ]
  },
  {
   "cell_type": "code",
   "execution_count": 43,
   "metadata": {},
   "outputs": [
    {
     "data": {
      "image/png": "[encoded data removed]",
      "text/plain": [
       "<Figure size 432x288 with 1 Axes>"
      ]
     },
     "metadata": {},
     "output_type": "display_data"
    }
   ],
   "source": [
    "import matplotlib.pyplot as plt\n",
    "import numpy as np\n",
    "\n",
    "# 对于[: , np.newaxis] 和 [np.newaxis，：]\n",
    "# 是在np.newaxis这里增加1维。\n",
    "x_data = np.linspace(-0.5,0.5,200)[:,np.newaxis]\n",
    "noise = np.random.normal(0,0.02,x_data.shape)\n",
    "y_data = np.square(x_data) + noise\n",
    "\n",
    "# 定义两个placeholder\n",
    "x =tf.placeholder(tf.float32,[None,1]) # 行不确定，一列\n",
    "y =tf.placeholder(tf.float32,[None,1])\n",
    "\n",
    "# 定义神经网络中间层\n",
    "Weights_L1 = tf.Variable(tf.random.normal([1,10]))\n",
    "biases_L1 = tf.Variable(tf.zeros([1,10]))\n",
    "Wx_plus_b_L1 = tf.matmul(x,Weights_L1)+biases_L1\n",
    "L1 = tf.nn.tanh(Wx_plus_b_L1)\n",
    "\n",
    "# 定义输出层\n",
    "Weights_L2 = tf.Variable(tf.random_normal([10,1]))\n",
    "biases_L2 = tf.Variable(tf.zeros([1,1]))\n",
    "Wx_plus_b_L2 = tf.matmul(L1,Weights_L2)+biases_L2\n",
    "prediction = tf.nn.tanh(Wx_plus_b_L2)\n",
    "\n",
    "# 二次代价函数\n",
    "loss = tf.reduce_mean(tf.square(y-prediction))\n",
    "train_step = tf.train.GradientDescentOptimizer(0.1).minimize(loss)\n",
    "\n",
    "with tf.Session() as sess:\n",
    "    sess.run(tf.global_variables_initializer())\n",
    "    for _ in range(2000):\n",
    "        sess.run(train_step,feed_dict={x:x_data,y:y_data})\n",
    "    #     获得预测值\n",
    "    prediction_value = sess.run(prediction,feed_dict = {x:x_data})\n",
    "    #prediction_value = sess.run(prediction)\n",
    "    plt.figure()\n",
    "    plt.scatter(x_data,y_data)\n",
    "    plt.plot(x_data,prediction_value,'r-',lw=5)\n",
    "    plt.show()\n",
    "    sess.close()\n",
    "    "
   ]
  },
  {
   "cell_type": "markdown",
   "metadata": {},
   "source": [
    "# softmax"
   ]
  },
  {
   "cell_type": "code",
   "execution_count": 37,
   "metadata": {},
   "outputs": [],
   "source": [
    "# \n",
    "# softmax经常用于给不同的对象分配概率 softmax = exp(xi)/sigma(j,exp(xj))\n"
   ]
  },
  {
   "cell_type": "markdown",
   "metadata": {},
   "source": [
    "# mnist数据集分类"
   ]
  },
  {
   "cell_type": "code",
   "execution_count": null,
   "metadata": {},
   "outputs": [
    {
     "name": "stdout",
     "output_type": "stream",
     "text": [
      "Downloading data from https://storage.googleapis.com/tensorflow/tf-keras-datasets/mnist.npz\n"
     ]
    }
   ],
   "source": [
    "from tensorflow import keras\n",
    "(x_train,y_train),(x_test,y_test)=keras.datasets.mnist.load_data()\n",
    "\n",
    "#mnist = input_data.read_data_sets(\"MNIST_data\",one_hot=True)"
   ]
  },
  {
   "cell_type": "code",
   "execution_count": 58,
   "metadata": {},
   "outputs": [
    {
     "ename": "ModuleNotFoundError",
     "evalue": "No module named 'tensorflow.examples.tutorials'",
     "output_type": "error",
     "traceback": [
      "\u001b[1;31m---------------------------------------------------------------------------\u001b[0m",
      "\u001b[1;31mModuleNotFoundError\u001b[0m                       Traceback (most recent call last)",
      "\u001b[1;32m<ipython-input-58-ab6916a6c169>\u001b[0m in \u001b[0;36m<module>\u001b[1;34m()\u001b[0m\n\u001b[0;32m      1\u001b[0m \u001b[1;31m#from tensorflow.compat.v1.examples.tutorials.mnist import input_data\u001b[0m\u001b[1;33m\u001b[0m\u001b[1;33m\u001b[0m\u001b[0m\n\u001b[1;32m----> 2\u001b[1;33m \u001b[1;32mfrom\u001b[0m \u001b[0mtensorflow\u001b[0m\u001b[1;33m.\u001b[0m\u001b[0mexamples\u001b[0m\u001b[1;33m.\u001b[0m\u001b[0mtutorials\u001b[0m\u001b[1;33m.\u001b[0m\u001b[0mmnist\u001b[0m \u001b[1;32mimport\u001b[0m \u001b[0minput_data\u001b[0m\u001b[1;33m\u001b[0m\u001b[0m\n\u001b[0m\u001b[0;32m      3\u001b[0m \u001b[1;33m\u001b[0m\u001b[0m\n\u001b[0;32m      4\u001b[0m \u001b[1;33m\u001b[0m\u001b[0m\n\u001b[0;32m      5\u001b[0m \u001b[0mmnist\u001b[0m \u001b[1;33m=\u001b[0m \u001b[0minput_data\u001b[0m\u001b[1;33m.\u001b[0m\u001b[0mread_data_sets\u001b[0m\u001b[1;33m(\u001b[0m\u001b[1;34m\"MNIST_data\"\u001b[0m\u001b[1;33m,\u001b[0m\u001b[0mone_hot\u001b[0m\u001b[1;33m=\u001b[0m\u001b[1;32mTrue\u001b[0m\u001b[1;33m)\u001b[0m\u001b[1;33m\u001b[0m\u001b[0m\n",
      "\u001b[1;31mModuleNotFoundError\u001b[0m: No module named 'tensorflow.examples.tutorials'"
     ]
    }
   ],
   "source": [
    "#from tensorflow.compat.v1.examples.tutorials.mnist import input_data\n",
    "from tensorflow import keras\n",
    "(x_train,y_train),(x_test,y_test)=keras.datasets.mnist.load_data()\n",
    "\n",
    "mnist = input_data.read_data_sets(\"MNIST_data\",one_hot=True)\n",
    "\n",
    "batch_size = 100 #每个批次大小\n",
    "n_batch = minst.train.num_expmales // batch_size #一共有多少批次\n",
    "\n",
    "# 定义两个placeholder\n",
    "x = tf.placeholder(tf.float32,[None,784]) #None即输入数据的数量，这里就会是100\n",
    "y = tf.placeholder(tf.float32,[None,10])\n",
    "\n",
    "# 创建网络\n",
    "W = tf.Variable(tf.zeros([784,10]))\n",
    "b = tf.Variable(tf.zeros([10]))\n",
    "prediction = tf.nn.softmax(tf.matmul(x,W)+b)\n",
    "\n",
    "# 二次代价函数\n",
    "loss = tf.reduce_mean(tf.square(y-prediction))\n",
    "train_step = tf.train.GradientDescentOptimizer(0.2),minimize(loss)\n",
    "\n",
    "#初始化变量\n",
    "init = tf.global_variables_initializer()\n",
    "\n",
    "correct_prediction = tf.equal(tf.argmax(y,1),tf.argmax(prediction,1)) #比较两个值的大小，返回True/False，argmax函数求prediction在哪个位置值最大，返回横排索引\n",
    "# 求准确率\n",
    "accuracy = tf.reduce_mean(tf.cast(correct_prediction,tf.float32)) # 转换布尔型为浮点型，True变为1，False变为0\n",
    "\n",
    "with tf.Session() as sess:\n",
    "    sess.run(init)\n",
    "    for eqoch in range(21): #训练次数\n",
    "        for batch in range(n_batch):\n",
    "            batch_xs.batch_ys = mnist.train.next_batch(batch_size)\n",
    "            sess.run(train_step,feed_dict={x:batch_xs,y:batch_ys})\n",
    "        \n",
    "        acc = sess.run(accuracy,feed_dict={x:mnist.test,y:mnist.test.labels})\n",
    "        print(\"Iter\" + str(epoch)+\",Testing Accuracy\" + str(acc))\n",
    "        "
   ]
  },
  {
   "cell_type": "markdown",
   "metadata": {},
   "source": [
    "# 代价函数"
   ]
  },
  {
   "cell_type": "markdown",
   "metadata": {},
   "source": [
    "二次代价函数+梯度下降法:\n",
    "此时求偏导发现\n",
    "w和b的梯度（变化）跟激活函数的梯度（导数）成正比，激活函数的梯度越大，w和b调整更快，收敛越快\n",
    "比如softmax函数越靠近0，函数梯度越大，w和b改变约快；越靠近1，梯度越小，w，b越慢改变。所以根据调整方向的需求不同，这就有时候导致误差大时调整步子小或误差小时调整步子大，所以有时候会产生参数调整不太合理的情况，此时我们可以引入交叉熵代价函数\n",
    "\n",
    "交叉熵:\n",
    "loss = -sigma(ylna+(1-y)ln(1-a))/n ，a是输出值，y是实际值\n",
    "此时求偏导可以发现权值和偏置值与激活函数的偏导无关，而与输出值和实际值的误差成正比，所以误差越大，梯度越大，参数调整越快，训练速度越快\n",
    "\n",
    "\n",
    "总结：\n",
    "如果神经元输出是线性的，则适合二次代价函数，\n",
    "如果输出神经元是s型函数，则适合交叉熵\n",
    "\n",
    "对数释然代价函数\n",
    "经常用对数释然代价函数与softmax组合，如果是sigmoid也可以采用交叉熵\n",
    "tf.nn.sigmoid_cross_entropy_with_logits() #表示跟sigmoid搭配使用的交叉熵\n",
    "tf.nn.softmax_cross_entropy_with_logits() #表示跟softmax搭配使用的交叉熵\n",
    "\n",
    "\n"
   ]
  },
  {
   "cell_type": "markdown",
   "metadata": {},
   "source": [
    "# 对上一个例子改变的部分实例\n",
    "\n",
    "loss=tf.reduce_mean(tf.nn.softmax_cross_entropy_with_logits(labels=y,logits=prediction))"
   ]
  },
  {
   "cell_type": "markdown",
   "metadata": {},
   "source": [
    "# 拟合问题"
   ]
  },
  {
   "cell_type": "markdown",
   "metadata": {},
   "source": [
    "防止过拟合可以采用：1.增加数据集 2.正则化方法（增加权重设置） 3.Dropout（随机扔掉神经元进行操作）\n"
   ]
  },
  {
   "cell_type": "code",
   "execution_count": null,
   "metadata": {},
   "outputs": [],
   "source": [
    "# 接着上一个例子 ——Dropout\n",
    "\n",
    "# 创建网络\n",
    "W = tf.Variable(tf.zeros([784,10]))\n",
    "b = tf.Variable(tf.zeros([10]))\n",
    "prediction = tf.nn.softmax(tf.matmul(x,W)+b)\n",
    "\n",
    "# 建立时其实不一定初始化为0，以下截断式的正态分布初始化效果可能更好\n",
    "W1 = tf.Variable(tf.truncated_normal([784,2000],stddev=0.1))\n",
    "b1 = tf.Variable(tf.zeros([2000])+0.1)\n",
    "L1 = tf.nn.tanh(tf.matmul(x,W1)+b1)\n",
    "# keep_prob意味着多少比例神经元可以用，设置为1时等于全部使用\n",
    "L1_drop = tf.nn.dropout(L1,keep_prob)  \n",
    "\n",
    "W2 = tf.Variable(tf.truncated_normal([2000,10],stddev=0.1))\n",
    "b2 = tf.Variable(tf.zeros([10])+0.1)\n",
    "prediction = tf.nn.softmax(tf.matmul(x,W2)+b2)\n"
   ]
  },
  {
   "cell_type": "markdown",
   "metadata": {},
   "source": [
    "# 优化器"
   ]
  },
  {
   "cell_type": "markdown",
   "metadata": {},
   "source": [
    "tf.train.GradientDescentOptimizer 梯度下降\n",
    "tf.train.AdadeltaOptimizer\n",
    "tf.train.AdagradDAOptimizer\n",
    "tf.train.AdagradOptimizer\n",
    "tf.train.AdamOptimizer\n",
    "tf.train.MomentumOptimizer\n",
    "tf.train.RMSPropOptimizer\n",
    "\n",
    "\n",
    "优化器对比：\n",
    "1. 标准梯度下降——先计算所有样本汇总误差，再根据总误差取平均值\n",
    "2. 随机梯度下降（SGD）——随机抽取一个样本来计算误差，然后更新权值\n",
    "3. 批量梯度下降——折中方法，从样本钟选取一个批次（如10000中选取100个作为一个batch），然后计算这个batch的总误差更新权重\n",
    "\n",
    "训练样本比较大的话，标准梯度速度会比较慢，但噪声少；而随机梯度速度快，但可能噪声多\n",
    "一般批量的方式用的多一点"
   ]
  },
  {
   "cell_type": "markdown",
   "metadata": {},
   "source": [
    "参数：\n",
    "W：要训练的参数\n",
    "J（W）：代价函数\n",
    "ΔJ（W）：代价函数的梯度\n",
    "μ：学习率\n",
    "\n",
    "1. SGD:略（数学证明，即之前所云成正i相关时的数学式子）\n",
    "\n",
    "2. Momentum：相比SGD多了动力项，即当前权值的改变会受到上一次改变的影响，动力项Y通常设置为0.9\n",
    "W-W-Vt\n",
    "Vt=YVt-1+μΔJ(W)(<-SGD误差项)\n",
    "\n",
    "3. NAG：和Momentum合并在一个函数中，可以通过参数配置启用\n",
    "NAG改善了Momentum盲目跟从下坡的问题，预测下一次下降的位置，提升提前计算下一个位置的能力\n",
    "W-W-Vt\n",
    "Vt=YVt-1+μΔJ(W-YVt-1)\n",
    "\n",
    "4. Adagrad：基于SGD，但给予常见数据比较小的学习率去调整参数，不常见的数据比较大的学习率去调整参数，蛇和用于数据稀疏的数据集\n",
    "优点在于不用认为调整学习率，但缺点在于随着迭代次数增多，学习率会逐渐降低\n",
    "学习率将随着梯度的倒数增长，也就是说较大梯度具有较小的学习率，而较小的梯度具有较大的学习率，可以解决普通的sgd方法中学习率一直不变的问题\n",
    "\n",
    "5. RMSprop：均方根的缩写\n",
    "借鉴了Adagrad的思想，不过这里只用到了前T-1次梯度的平方的平均，并不存在分母前t次误差的累加导致学习率越来越低到0的问题\n",
    "\n",
    "6. Adadelta：\n",
    "不需要设置学习率，采用了牛顿迭代的思路\n",
    "\n",
    "7. Adam\n",
    "β1一般设置为0.9，β2一般设置为0.99\n",
    "Adam会存储之前衰减的平方梯度，\n",
    "实现简单，计算高效，对内存需求少\n",
    "参数的更新不受梯度的伸缩变换影响\n",
    "\n",
    "\n",
    "总结：\n",
    "速度和功能示意图 视频21分\n",
    "https://www.bilibili.com/video/BV1kW411W7pZ?p=13"
   ]
  },
  {
   "cell_type": "markdown",
   "metadata": {},
   "source": [
    "# 优化器"
   ]
  },
  {
   "cell_type": "code",
   "execution_count": null,
   "metadata": {},
   "outputs": [],
   "source": [
    "针对上述例子的补充\n",
    "\n",
    "train_step = tf.train.AdamOptimizer(1e-2).minimize(loss)\n",
    "\n",
    "tf.assign(lr,0.001*(0.95*epoch)) \n",
    "这个函数可以使得学习率随epoch增大减小，防止震荡而无法收敛"
   ]
  },
  {
   "cell_type": "markdown",
   "metadata": {},
   "source": [
    "# tensorboard"
   ]
  },
  {
   "cell_type": "code",
   "execution_count": null,
   "metadata": {},
   "outputs": [],
   "source": [
    "基于上述例子\n",
    "# 命名空间"
   ]
  },
  {
   "cell_type": "code",
   "execution_count": null,
   "metadata": {},
   "outputs": [],
   "source": [
    "with tf.name_scope(\"input\"):\n",
    "    x = tf.placeholder(tf.float32,[None,784],name='x-input') #None即输入数据的数量，这里就会是100\n",
    "    y = tf.placeholder(tf.float32,[None,10],name='y-input')\n",
    "\n",
    "with tf.Session() as sess:\n",
    "    sess.run(init)\n",
    "    # 存放路径\n",
    "    writer = tf.summary.FileWriter('logs/',sess.gragh)\n",
    "    for eqoch in range(21): #训练次数\n",
    "        for batch in range(n_batch):\n",
    "            batch_xs.batch_ys = mnist.train.next_batch(batch_size)\n",
    "            sess.run(train_step,feed_dict={x:batch_xs,y:batch_ys})\n",
    "        \n",
    "        acc = sess.run(accuracy,feed_dict={x:mnist.test,y:mnist.test.labels})\n",
    "        print(\"Iter\" + str(epoch)+\",Testing Accuracy\" + str(acc))\n",
    "          "
   ]
  },
  {
   "cell_type": "code",
   "execution_count": null,
   "metadata": {},
   "outputs": [],
   "source": []
  },
  {
   "cell_type": "code",
   "execution_count": null,
   "metadata": {},
   "outputs": [],
   "source": []
  },
  {
   "cell_type": "code",
   "execution_count": null,
   "metadata": {},
   "outputs": [],
   "source": []
  },
  {
   "cell_type": "code",
   "execution_count": null,
   "metadata": {},
   "outputs": [],
   "source": []
  },
  {
   "cell_type": "code",
   "execution_count": null,
   "metadata": {},
   "outputs": [],
   "source": []
  },
  {
   "cell_type": "code",
   "execution_count": null,
   "metadata": {},
   "outputs": [],
   "source": []
  },
  {
   "cell_type": "code",
   "execution_count": null,
   "metadata": {},
   "outputs": [],
   "source": []
  },
  {
   "cell_type": "code",
   "execution_count": null,
   "metadata": {},
   "outputs": [],
   "source": []
  },
  {
   "cell_type": "code",
   "execution_count": null,
   "metadata": {},
   "outputs": [],
   "source": []
  },
  {
   "cell_type": "code",
   "execution_count": null,
   "metadata": {},
   "outputs": [],
   "source": []
  }
 ],
 "metadata": {
  "kernelspec": {
   "display_name": "Python 3",
   "language": "python",
   "name": "python3"
  },
  "language_info": {
   "codemirror_mode": {
    "name": "ipython",
    "version": 3
   },
   "file_extension": ".py",
   "mimetype": "text/x-python",
   "name": "python",
   "nbconvert_exporter": "python",
   "pygments_lexer": "ipython3",
   "version": "3.6.5"
  },
  "toc": {
   "base_numbering": 1,
   "nav_menu": {},
   "number_sections": true,
   "sideBar": true,
   "skip_h1_title": false,
   "title_cell": "Table of Contents",
   "title_sidebar": "Contents",
   "toc_cell": false,
   "toc_position": {},
   "toc_section_display": true,
   "toc_window_display": false
  }
 },
 "nbformat": 4,
 "nbformat_minor": 2
}
